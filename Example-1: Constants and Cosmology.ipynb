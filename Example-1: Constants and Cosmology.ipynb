{
 "cells": [
  {
   "cell_type": "code",
   "execution_count": 2,
   "id": "ed8df1e1",
   "metadata": {},
   "outputs": [],
   "source": [
    "using LensFactory\n",
    "using LensFactory.Constants"
   ]
  },
  {
   "cell_type": "markdown",
   "id": "f94a6c4f",
   "metadata": {},
   "source": [
    "## Avaiable functions in cosmology module"
   ]
  },
  {
   "cell_type": "code",
   "execution_count": 19,
   "id": "a9370c6c",
   "metadata": {},
   "outputs": [
    {
     "data": {
      "text/plain": [
       "16-element Vector{Symbol}:\n",
       " :Cosmology\n",
       " :Omega_kz\n",
       " :Omega_mz\n",
       " :Omega_rz\n",
       " :Omega_wz\n",
       " :angular_diameter_distance\n",
       " :comoving_distance_radial\n",
       " :comoving_distance_transverse\n",
       " :hubble_distance\n",
       " :hubble_parameter\n",
       " :hubble_time\n",
       " :init_cosmology\n",
       " :lookback_time\n",
       " :luminosity_distance\n",
       " :rho_cz\n",
       " :scale_factor"
      ]
     },
     "metadata": {},
     "output_type": "display_data"
    }
   ],
   "source": [
    "# List available cosmological functions\n",
    "names(Cosmology)"
   ]
  },
  {
   "cell_type": "markdown",
   "id": "69cd1c9d",
   "metadata": {},
   "source": [
    "## Cosmology - Default"
   ]
  },
  {
   "cell_type": "code",
   "execution_count": 27,
   "id": "e2d2ebfe",
   "metadata": {},
   "outputs": [
    {
     "name": "stdout",
     "output_type": "stream",
     "text": [
      "LensFactory.Cosmology.init_cosmology\n",
      "  H0: Float64 70.0\n",
      "  w: Float64 -1.0\n",
      "  Omega_m0: Float64 0.3\n",
      "  Omega_r0: Float64 0.0\n",
      "  Omega_w0: Float64 0.7\n",
      "  Omega_k0: Float64 0.0\n",
      "\n",
      "\n",
      "Angular diameter distance between observer and lens (in Mpc): 1259.0835972889374 \n",
      "Angular diameter distance between lens and source (in Mpc): 707.6017049770313 \n",
      "Angular diameter distance between observer and source (in Mpc): 1651.914402943734 \n",
      "\n",
      "\n",
      "Luminosity distance to lens (in Mpc): 2832.9380939001094 \n",
      "Luminosity distance to source (in Mpc): 6607.657611774936 \n",
      "\n",
      "\n",
      "1 arcsec scale at lens redshift (in kpc): 6.104209536262863 \n",
      "1 arcsec scale at source redshift (in kpc): 8.00870702569013 \n"
     ]
    }
   ],
   "source": [
    "cosmo = Cosmology.init_cosmology()\n",
    "dump(cosmo)\n",
    "println(\"\\n\")\n",
    "\n",
    "# Lens and source redshifts\n",
    "zl = 0.5\n",
    "zs = 1.0\n",
    "\n",
    "# Angular diameter distances\n",
    "Dol = Cosmology.angular_diameter_distance(cosmo, 0., zl)\n",
    "Dls = Cosmology.angular_diameter_distance(cosmo, zl, zs)\n",
    "Dos = Cosmology.angular_diameter_distance(cosmo, 0., zs)\n",
    "\n",
    "println(\"Angular diameter distance between observer and lens (in Mpc): $(Dol/DIST_MPC) \")\n",
    "println(\"Angular diameter distance between lens and source (in Mpc): $(Dls/DIST_MPC) \")\n",
    "println(\"Angular diameter distance between observer and source (in Mpc): $(Dos/DIST_MPC) \")\n",
    "println(\"\\n\")\n",
    "\n",
    "# Luminosity distances\n",
    "DL = Cosmology.luminosity_distance(cosmo, zl)\n",
    "println(\"Luminosity distance to lens (in Mpc): $(DL/DIST_MPC) \")\n",
    "\n",
    "DL = Cosmology.luminosity_distance(cosmo, zs)\n",
    "println(\"Luminosity distance to source (in Mpc): $(DL/DIST_MPC) \")\n",
    "println(\"\\n\")\n",
    "\n",
    "# Angular scales\n",
    "theta_l = Cosmology.angular_scale(cosmo, zl)\n",
    "println(\"1 arcsec scale at lens redshift (in kpc): $(theta_l) \")\n",
    "\n",
    "theta_s = Cosmology.angular_scale(cosmo, zs)\n",
    "println(\"1 arcsec scale at source redshift (in kpc): $(theta_s) \")"
   ]
  },
  {
   "cell_type": "markdown",
   "id": "8e8da0fd",
   "metadata": {},
   "source": [
    "## Cosmology - manual"
   ]
  },
  {
   "cell_type": "code",
   "execution_count": null,
   "id": "6091d4ab",
   "metadata": {},
   "outputs": [],
   "source": []
  }
 ],
 "metadata": {
  "kernelspec": {
   "display_name": "Julia 1.11.6",
   "language": "julia",
   "name": "julia-1.11"
  },
  "language_info": {
   "file_extension": ".jl",
   "mimetype": "application/julia",
   "name": "julia",
   "version": "1.11.6"
  }
 },
 "nbformat": 4,
 "nbformat_minor": 5
}
