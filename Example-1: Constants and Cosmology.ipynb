{
 "cells": [
  {
   "cell_type": "code",
   "execution_count": 22,
   "id": "ed8df1e1",
   "metadata": {},
   "outputs": [],
   "source": [
    "using LensFactory\n",
    "using LensFactory.Constants"
   ]
  },
  {
   "cell_type": "markdown",
   "id": "69cd1c9d",
   "metadata": {},
   "source": [
    "# Cosmology - Default"
   ]
  },
  {
   "cell_type": "code",
   "execution_count": 36,
   "id": "e2d2ebfe",
   "metadata": {},
   "outputs": [
    {
     "name": "stdout",
     "output_type": "stream",
     "text": [
      "LensFactory.Cosmology.init_cosmology\n",
      "  H0: Float64 70.0\n",
      "  w: Float64 -1.0\n",
      "  Omega_m0: Float64 0.3\n",
      "  Omega_r0: Float64 0.0\n",
      "  Omega_w0: Float64 0.7\n",
      "  Omega_k0: Float64 0.0\n"
     ]
    }
   ],
   "source": [
    "cosmo = Cosmology.init_cosmology()\n",
    "dump(cosmo)"
   ]
  },
  {
   "cell_type": "code",
   "execution_count": null,
   "id": "a75678c7",
   "metadata": {},
   "outputs": [
    {
     "name": "stdout",
     "output_type": "stream",
     "text": [
      "Angular diameter distance between observer and lens (in Mpc): 1259.0835972889374 \n",
      "Angular diameter distance between lens and source (in Mpc): 707.6017049770313 \n",
      "Angular diameter distance between observer and source (in Mpc): 1651.914402943734 \n",
      "\n",
      "Luminosity distance to lens (in Mpc): 2832.9380939001094 \n"
     ]
    }
   ],
   "source": [
    "zl = 0.5\n",
    "zs = 1.0\n",
    "\n",
    "Dol = Cosmology.angular_diameter_distance(cosmo, 0., zl)\n",
    "Dls = Cosmology.angular_diameter_distance(cosmo, zl, zs)\n",
    "Dos = Cosmology.angular_diameter_distance(cosmo, 0., zs)\n",
    "\n",
    "println(\"Angular diameter distance between observer and lens (in Mpc): $(Dol/DIST_MPC) \")\n",
    "println(\"Angular diameter distance between lens and source (in Mpc): $(Dls/DIST_MPC) \")\n",
    "println(\"Angular diameter distance between observer and source (in Mpc): $(Dos/DIST_MPC) \")\n",
    "print(\"\\n\")\n",
    "\n",
    "DL = Cosmology.luminosity_distance(cosmo, zl)\n",
    "println(\"Luminosity distance to lens (in Mpc): $(DL/DIST_MPC) \")\n",
    "\n"
   ]
  },
  {
   "cell_type": "code",
   "execution_count": null,
   "id": "1bc66f8b",
   "metadata": {},
   "outputs": [],
   "source": []
  }
 ],
 "metadata": {
  "kernelspec": {
   "display_name": "Julia 1.11.6",
   "language": "julia",
   "name": "julia-1.11"
  },
  "language_info": {
   "file_extension": ".jl",
   "mimetype": "application/julia",
   "name": "julia",
   "version": "1.11.6"
  }
 },
 "nbformat": 4,
 "nbformat_minor": 5
}
