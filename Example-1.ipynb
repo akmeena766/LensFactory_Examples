{
 "cells": [
  {
   "cell_type": "code",
   "execution_count": 3,
   "id": "ed8df1e1",
   "metadata": {},
   "outputs": [],
   "source": [
    "using LensFactory, LensFactory.Constants\n",
    "using GLMakie\n",
    "GLMakie.activate!()"
   ]
  },
  {
   "cell_type": "markdown",
   "id": "69cd1c9d",
   "metadata": {},
   "source": [
    "# Cosmology - Default"
   ]
  },
  {
   "cell_type": "code",
   "execution_count": 4,
   "id": "e2d2ebfe",
   "metadata": {},
   "outputs": [
    {
     "name": "stdout",
     "output_type": "stream",
     "text": [
      "LensFactory.Cosmology.init_cosmology\n",
      "  H0: Float64 70.0\n",
      "  w: Float64 -1.0\n",
      "  Omega_m0: Float64 0.3\n",
      "  Omega_r0: Float64 0.0\n",
      "  Omega_w0: Float64 0.7\n",
      "  Omega_k0: Float64 0.0\n"
     ]
    }
   ],
   "source": [
    "cosmo = Cosmology.init_cosmology()\n",
    "dump(cosmo)"
   ]
  },
  {
   "cell_type": "code",
   "execution_count": null,
   "id": "1bc66f8b",
   "metadata": {},
   "outputs": [],
   "source": []
  }
 ],
 "metadata": {
  "kernelspec": {
   "display_name": "Julia 1.11.6",
   "language": "julia",
   "name": "julia-1.11"
  },
  "language_info": {
   "file_extension": ".jl",
   "mimetype": "application/julia",
   "name": "julia",
   "version": "1.11.6"
  }
 },
 "nbformat": 4,
 "nbformat_minor": 5
}
