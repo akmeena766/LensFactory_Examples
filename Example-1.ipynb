{
 "cells": [
  {
   "cell_type": "code",
   "execution_count": null,
   "id": "ed8df1e1",
   "metadata": {},
   "outputs": [],
   "source": [
    "using LensFactory, LensFactory.Constants\n",
    "using GLMakie"
   ]
  },
  {
   "cell_type": "code",
   "execution_count": null,
   "id": "1bc66f8b",
   "metadata": {},
   "outputs": [],
   "source": []
  }
 ],
 "metadata": {
  "kernelspec": {
   "display_name": "Julia 1.11.6",
   "language": "julia",
   "name": "julia-1.11"
  },
  "language_info": {
   "file_extension": ".jl",
   "mimetype": "application/julia",
   "name": "julia",
   "version": "1.11.6"
  }
 },
 "nbformat": 4,
 "nbformat_minor": 5
}
